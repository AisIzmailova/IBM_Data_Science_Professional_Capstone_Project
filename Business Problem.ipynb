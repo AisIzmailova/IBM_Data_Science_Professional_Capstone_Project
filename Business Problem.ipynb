{
    "cells": [
        {
            "cell_type": "markdown",
            "metadata": {
                "collapsed": true
            },
            "source": "# Capstone Project "
        },
        {
            "cell_type": "markdown",
            "metadata": {},
            "source": "## Introduction/ Business problem"
        },
        {
            "cell_type": "markdown",
            "metadata": {},
            "source": "The objective of this Capstone Project is to identify top 10 neighborhoods in Calgary for young families with kids, based on certain criteria such as, accessibility of schools, child care services, grocery stores, public transportation (e.g bus stops and LRT/Subway stops), medical centres, recreational facilities (e.g parks, aquatic centers, fitness & gym), food and restaurants, cultural facilities (e.g libraries, museums, dance school etc.), stores and malls. \n\nThere are 185 neighborhood communities in Calgary as of 2019. For families with kids it is sometimes difficult to find the best neighborhood community to live in, since they have many considerations and things to keep in mind. For example, parents with small kids need to find available daycare that should be at a walking distance from their home. In case, there are older kids in a family, there also should be elementary/middle school nearby. As well as grocery stores and medical centers need to be in close proximity. Availability of public transport and work commute is also very important. As a result, it might be challenging for some families to find a perfect place to live. \n\nThe goal of this Capstone Project is to analyze data for all 185 neighborhoods in Calgary based on selected criteria and identify top 10 best communities in the city. \n"
        },
        {
            "cell_type": "code",
            "execution_count": null,
            "metadata": {},
            "outputs": [],
            "source": ""
        }
    ],
    "metadata": {
        "kernelspec": {
            "display_name": "Python 3.6",
            "language": "python",
            "name": "python3"
        },
        "language_info": {
            "codemirror_mode": {
                "name": "ipython",
                "version": 3
            },
            "file_extension": ".py",
            "mimetype": "text/x-python",
            "name": "python",
            "nbconvert_exporter": "python",
            "pygments_lexer": "ipython3",
            "version": "3.6.9"
        }
    },
    "nbformat": 4,
    "nbformat_minor": 1
}